{
 "cells": [
  {
   "cell_type": "markdown",
   "source": [
    "<h1> French Deck </h1>"
   ],
   "metadata": {
    "collapsed": false
   },
   "id": "e84daedf9f9e335"
  },
  {
   "cell_type": "code",
   "outputs": [],
   "source": [
    "from collections import namedtuple\n",
    "from typing import Self\n",
    "\n",
    "card = namedtuple('Card', ['rank', 'suit'])"
   ],
   "metadata": {
    "collapsed": false,
    "ExecuteTime": {
     "end_time": "2024-06-07T21:51:55.522158Z",
     "start_time": "2024-06-07T21:51:55.509890Z"
    }
   },
   "id": "971bfedab47187df",
   "execution_count": 1
  },
  {
   "cell_type": "code",
   "outputs": [],
   "source": [
    "class FrenchDeck:\n",
    "    ranks = [str(n) for n in range(2,11)] + list('JQKA')\n",
    "    suits = 'spades diamonds clubs hearts'.split()\n",
    "    def __init__(self):\n",
    "        self._cards = [card(rand,suit) for suit in self.suits for rand in self.ranks]\n",
    "    def __len__(self) -> int:\n",
    "        return len(self._cards)\n",
    "    def __getitem__(self, position) -> Self:\n",
    "        return self._cards[position]"
   ],
   "metadata": {
    "collapsed": false,
    "ExecuteTime": {
     "end_time": "2024-06-07T21:51:55.522509Z",
     "start_time": "2024-06-07T21:51:55.513899Z"
    }
   },
   "id": "8b5709ddd7dc86ba",
   "execution_count": 2
  },
  {
   "cell_type": "code",
   "outputs": [],
   "source": [
    "deck = FrenchDeck()"
   ],
   "metadata": {
    "collapsed": false,
    "ExecuteTime": {
     "end_time": "2024-06-07T21:51:55.522754Z",
     "start_time": "2024-06-07T21:51:55.515992Z"
    }
   },
   "id": "edea68bfbec32fad",
   "execution_count": 3
  },
  {
   "cell_type": "code",
   "outputs": [
    {
     "data": {
      "text/plain": "Card(rank='3', suit='spades')"
     },
     "execution_count": 4,
     "metadata": {},
     "output_type": "execute_result"
    }
   ],
   "source": [
    "deck[1]"
   ],
   "metadata": {
    "collapsed": false,
    "ExecuteTime": {
     "end_time": "2024-06-07T21:51:55.523061Z",
     "start_time": "2024-06-07T21:51:55.518860Z"
    }
   },
   "id": "56a058d01fb4d687",
   "execution_count": 4
  },
  {
   "cell_type": "code",
   "outputs": [],
   "source": [
    "from random import choice"
   ],
   "metadata": {
    "collapsed": false,
    "ExecuteTime": {
     "end_time": "2024-06-07T21:51:55.525675Z",
     "start_time": "2024-06-07T21:51:55.521757Z"
    }
   },
   "id": "fe5bfcf161c03c85",
   "execution_count": 5
  },
  {
   "cell_type": "code",
   "outputs": [
    {
     "data": {
      "text/plain": "Card(rank='Q', suit='spades')"
     },
     "execution_count": 6,
     "metadata": {},
     "output_type": "execute_result"
    }
   ],
   "source": [
    "choice(deck)"
   ],
   "metadata": {
    "collapsed": false,
    "ExecuteTime": {
     "end_time": "2024-06-07T21:51:55.531573Z",
     "start_time": "2024-06-07T21:51:55.524893Z"
    }
   },
   "id": "5b04828c48c21cf5",
   "execution_count": 6
  },
  {
   "cell_type": "code",
   "outputs": [
    {
     "data": {
      "text/plain": "Card(rank='5', suit='diamonds')"
     },
     "execution_count": 7,
     "metadata": {},
     "output_type": "execute_result"
    }
   ],
   "source": [
    "choice(deck)"
   ],
   "metadata": {
    "collapsed": false,
    "ExecuteTime": {
     "end_time": "2024-06-07T21:51:55.550394Z",
     "start_time": "2024-06-07T21:51:55.528496Z"
    }
   },
   "id": "590bc526a7a0a5d0",
   "execution_count": 7
  },
  {
   "cell_type": "code",
   "outputs": [
    {
     "data": {
      "text/plain": "[Card(rank='J', suit='hearts'),\n Card(rank='Q', suit='hearts'),\n Card(rank='K', suit='hearts'),\n Card(rank='A', suit='hearts')]"
     },
     "execution_count": 8,
     "metadata": {},
     "output_type": "execute_result"
    }
   ],
   "source": [
    "deck[-4:]"
   ],
   "metadata": {
    "collapsed": false,
    "ExecuteTime": {
     "end_time": "2024-06-07T21:51:55.551935Z",
     "start_time": "2024-06-07T21:51:55.531420Z"
    }
   },
   "id": "57cc4bf8f15658f1",
   "execution_count": 8
  },
  {
   "cell_type": "code",
   "outputs": [
    {
     "name": "stdout",
     "output_type": "stream",
     "text": [
      "Card(rank='2', suit='spades')\n",
      "Card(rank='3', suit='spades')\n",
      "Card(rank='4', suit='spades')\n",
      "Card(rank='5', suit='spades')\n",
      "Card(rank='6', suit='spades')\n",
      "Card(rank='7', suit='spades')\n",
      "Card(rank='8', suit='spades')\n",
      "Card(rank='9', suit='spades')\n",
      "Card(rank='10', suit='spades')\n",
      "Card(rank='J', suit='spades')\n",
      "Card(rank='Q', suit='spades')\n",
      "Card(rank='K', suit='spades')\n",
      "Card(rank='A', suit='spades')\n",
      "Card(rank='2', suit='diamonds')\n",
      "Card(rank='3', suit='diamonds')\n",
      "Card(rank='4', suit='diamonds')\n",
      "Card(rank='5', suit='diamonds')\n",
      "Card(rank='6', suit='diamonds')\n",
      "Card(rank='7', suit='diamonds')\n",
      "Card(rank='8', suit='diamonds')\n",
      "Card(rank='9', suit='diamonds')\n",
      "Card(rank='10', suit='diamonds')\n",
      "Card(rank='J', suit='diamonds')\n",
      "Card(rank='Q', suit='diamonds')\n",
      "Card(rank='K', suit='diamonds')\n",
      "Card(rank='A', suit='diamonds')\n",
      "Card(rank='2', suit='clubs')\n",
      "Card(rank='3', suit='clubs')\n",
      "Card(rank='4', suit='clubs')\n",
      "Card(rank='5', suit='clubs')\n",
      "Card(rank='6', suit='clubs')\n",
      "Card(rank='7', suit='clubs')\n",
      "Card(rank='8', suit='clubs')\n",
      "Card(rank='9', suit='clubs')\n",
      "Card(rank='10', suit='clubs')\n",
      "Card(rank='J', suit='clubs')\n",
      "Card(rank='Q', suit='clubs')\n",
      "Card(rank='K', suit='clubs')\n",
      "Card(rank='A', suit='clubs')\n",
      "Card(rank='2', suit='hearts')\n",
      "Card(rank='3', suit='hearts')\n",
      "Card(rank='4', suit='hearts')\n",
      "Card(rank='5', suit='hearts')\n",
      "Card(rank='6', suit='hearts')\n",
      "Card(rank='7', suit='hearts')\n",
      "Card(rank='8', suit='hearts')\n",
      "Card(rank='9', suit='hearts')\n",
      "Card(rank='10', suit='hearts')\n",
      "Card(rank='J', suit='hearts')\n",
      "Card(rank='Q', suit='hearts')\n",
      "Card(rank='K', suit='hearts')\n",
      "Card(rank='A', suit='hearts')\n"
     ]
    }
   ],
   "source": [
    "for card in deck: # doctest: +ELLIPSIS\n",
    "    print(card)"
   ],
   "metadata": {
    "collapsed": false,
    "ExecuteTime": {
     "end_time": "2024-06-07T21:51:55.552588Z",
     "start_time": "2024-06-07T21:51:55.533889Z"
    }
   },
   "id": "65fbedc267a621cb",
   "execution_count": 9
  },
  {
   "cell_type": "markdown",
   "source": [
    "### Sorting"
   ],
   "metadata": {
    "collapsed": false
   },
   "id": "7c1187014ebf2bf4"
  },
  {
   "cell_type": "code",
   "outputs": [],
   "source": [
    "suit_values = dict(spades=3, hearts=2, diamonds=1, clubs=0)"
   ],
   "metadata": {
    "collapsed": false,
    "ExecuteTime": {
     "end_time": "2024-06-07T21:51:55.552923Z",
     "start_time": "2024-06-07T21:51:55.536638Z"
    }
   },
   "id": "9a21658aaf7e3231",
   "execution_count": 10
  },
  {
   "cell_type": "code",
   "outputs": [
    {
     "data": {
      "text/plain": "{'spades': 3, 'hearts': 2, 'diamonds': 1, 'clubs': 0}"
     },
     "execution_count": 11,
     "metadata": {},
     "output_type": "execute_result"
    }
   ],
   "source": [
    "suit_values"
   ],
   "metadata": {
    "collapsed": false,
    "ExecuteTime": {
     "end_time": "2024-06-07T21:51:55.553469Z",
     "start_time": "2024-06-07T21:51:55.539490Z"
    }
   },
   "id": "a23af0ab18401573",
   "execution_count": 11
  },
  {
   "cell_type": "code",
   "outputs": [],
   "source": [
    "def spades_high(card: card) -> int:\n",
    "    rank_value = FrenchDeck.ranks.index(card.rank)\n",
    "    return rank_value * len(suit_values) + suit_values[card.suit]"
   ],
   "metadata": {
    "collapsed": false,
    "ExecuteTime": {
     "end_time": "2024-06-07T21:51:55.553731Z",
     "start_time": "2024-06-07T21:51:55.541708Z"
    }
   },
   "id": "3bbe87f456f8524e",
   "execution_count": 12
  },
  {
   "cell_type": "code",
   "outputs": [
    {
     "data": {
      "text/plain": "7"
     },
     "execution_count": 13,
     "metadata": {},
     "output_type": "execute_result"
    }
   ],
   "source": [
    "spades_high(deck[1])"
   ],
   "metadata": {
    "collapsed": false,
    "ExecuteTime": {
     "end_time": "2024-06-07T21:51:55.554037Z",
     "start_time": "2024-06-07T21:51:55.544426Z"
    }
   },
   "id": "762419bac90408cb",
   "execution_count": 13
  },
  {
   "cell_type": "code",
   "outputs": [
    {
     "data": {
      "text/plain": "Card(rank='3', suit='spades')"
     },
     "execution_count": 14,
     "metadata": {},
     "output_type": "execute_result"
    }
   ],
   "source": [
    "deck[1]"
   ],
   "metadata": {
    "collapsed": false,
    "ExecuteTime": {
     "end_time": "2024-06-07T21:51:55.554320Z",
     "start_time": "2024-06-07T21:51:55.546856Z"
    }
   },
   "id": "fba0dc5d6bdbacd1",
   "execution_count": 14
  },
  {
   "cell_type": "code",
   "outputs": [
    {
     "data": {
      "text/plain": "[Card(rank='2', suit='clubs'),\n Card(rank='2', suit='diamonds'),\n Card(rank='2', suit='hearts'),\n Card(rank='2', suit='spades'),\n Card(rank='3', suit='clubs'),\n Card(rank='3', suit='diamonds'),\n Card(rank='3', suit='hearts'),\n Card(rank='3', suit='spades')]"
     },
     "execution_count": 15,
     "metadata": {},
     "output_type": "execute_result"
    }
   ],
   "source": [
    "sorted(deck,key=spades_high)[:8]"
   ],
   "metadata": {
    "collapsed": false,
    "ExecuteTime": {
     "end_time": "2024-06-07T21:51:55.555275Z",
     "start_time": "2024-06-07T21:51:55.549188Z"
    }
   },
   "id": "8acee0fe29e9ca80",
   "execution_count": 15
  },
  {
   "cell_type": "markdown",
   "source": [
    "We already have ranks sorted (as we created them via for loop)\n",
    "1. get the index of the rank multiply it with 4 (as we have 4 suits) \n",
    "2.  add the position of the suit. \n",
    "    i.e. club cards goes to 1st position, diamonds goes to 2nd ..."
   ],
   "metadata": {
    "collapsed": false
   },
   "id": "466f8494b56bccbd"
  },
  {
   "cell_type": "code",
   "outputs": [
    {
     "data": {
      "text/plain": "7"
     },
     "execution_count": 16,
     "metadata": {},
     "output_type": "execute_result"
    }
   ],
   "source": [
    "FrenchDeck.ranks.index(deck[1].rank) * 4 + suit_values[deck[1].suit]"
   ],
   "metadata": {
    "collapsed": false,
    "ExecuteTime": {
     "end_time": "2024-06-07T21:51:55.585805Z",
     "start_time": "2024-06-07T21:51:55.553033Z"
    }
   },
   "id": "6c6c37f49274e77f",
   "execution_count": 16
  },
  {
   "cell_type": "code",
   "outputs": [
    {
     "data": {
      "text/plain": "True"
     },
     "execution_count": 17,
     "metadata": {},
     "output_type": "execute_result"
    }
   ],
   "source": [
    "sorted(deck,key=spades_high)[7] == deck[1]"
   ],
   "metadata": {
    "collapsed": false,
    "ExecuteTime": {
     "end_time": "2024-06-07T21:51:55.586982Z",
     "start_time": "2024-06-07T21:51:55.556817Z"
    }
   },
   "id": "bcbd51e27ae1e948",
   "execution_count": 17
  },
  {
   "cell_type": "code",
   "outputs": [
    {
     "data": {
      "text/plain": "(Card(rank='3', suit='spades'), Card(rank='3', suit='spades'))"
     },
     "execution_count": 18,
     "metadata": {},
     "output_type": "execute_result"
    }
   ],
   "source": [
    "deck[1] , sorted(deck,key=spades_high)[7]"
   ],
   "metadata": {
    "collapsed": false,
    "ExecuteTime": {
     "end_time": "2024-06-07T21:51:55.593283Z",
     "start_time": "2024-06-07T21:51:55.589179Z"
    }
   },
   "id": "de7fd1f6d863f63b",
   "execution_count": 18
  }
 ],
 "metadata": {
  "kernelspec": {
   "display_name": "Python 3",
   "language": "python",
   "name": "python3"
  },
  "language_info": {
   "codemirror_mode": {
    "name": "ipython",
    "version": 2
   },
   "file_extension": ".py",
   "mimetype": "text/x-python",
   "name": "python",
   "nbconvert_exporter": "python",
   "pygments_lexer": "ipython2",
   "version": "2.7.6"
  }
 },
 "nbformat": 4,
 "nbformat_minor": 5
}
