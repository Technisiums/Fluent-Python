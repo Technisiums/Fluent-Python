{
 "cells": [
  {
   "cell_type": "markdown",
   "source": [
    "<h1> French Deck </h1>"
   ],
   "metadata": {
    "collapsed": false
   },
   "id": "e84daedf9f9e335"
  },
  {
   "cell_type": "code",
   "outputs": [],
   "source": [
    "from collections import namedtuple\n",
    "from typing import Self\n",
    "\n",
    "card = namedtuple('Card', ['rank', 'suit'])"
   ],
   "metadata": {
    "collapsed": false,
    "ExecuteTime": {
     "end_time": "2024-06-07T21:20:31.879506Z",
     "start_time": "2024-06-07T21:20:31.876364Z"
    }
   },
   "id": "971bfedab47187df",
   "execution_count": 5
  },
  {
   "cell_type": "code",
   "outputs": [],
   "source": [
    "class FrenchDeck:\n",
    "    ranks = [str(n) for n in range(2,11)] + list('JQKA')\n",
    "    suits = 'spades diamonds clubs hearts'.split()\n",
    "    def __init__(self):\n",
    "        self._cards = [card(rand,suit) for suit in self.suits for rand in self.ranks]\n",
    "    def __len__(self) -> int:\n",
    "        return len(self._cards)\n",
    "    def __getitem__(self, position) -> Self:\n",
    "        return self._cards[position]"
   ],
   "metadata": {
    "collapsed": false,
    "ExecuteTime": {
     "end_time": "2024-06-07T21:20:45.586020Z",
     "start_time": "2024-06-07T21:20:45.583410Z"
    }
   },
   "id": "8b5709ddd7dc86ba",
   "execution_count": 7
  },
  {
   "cell_type": "code",
   "outputs": [],
   "source": [
    "deck = FrenchDeck()"
   ],
   "metadata": {
    "collapsed": false,
    "ExecuteTime": {
     "end_time": "2024-06-07T21:21:05.033136Z",
     "start_time": "2024-06-07T21:21:05.029219Z"
    }
   },
   "id": "edea68bfbec32fad",
   "execution_count": 8
  },
  {
   "cell_type": "code",
   "outputs": [
    {
     "data": {
      "text/plain": "Card(rank='3', suit='spades')"
     },
     "execution_count": 15,
     "metadata": {},
     "output_type": "execute_result"
    }
   ],
   "source": [
    "deck[1]"
   ],
   "metadata": {
    "collapsed": false,
    "ExecuteTime": {
     "end_time": "2024-06-07T21:23:11.798379Z",
     "start_time": "2024-06-07T21:23:11.792040Z"
    }
   },
   "id": "56a058d01fb4d687",
   "execution_count": 15
  },
  {
   "cell_type": "code",
   "outputs": [],
   "source": [
    "from random import choice"
   ],
   "metadata": {
    "collapsed": false,
    "ExecuteTime": {
     "end_time": "2024-06-07T21:23:17.642465Z",
     "start_time": "2024-06-07T21:23:17.638024Z"
    }
   },
   "id": "fe5bfcf161c03c85",
   "execution_count": 16
  },
  {
   "cell_type": "code",
   "outputs": [
    {
     "data": {
      "text/plain": "Card(rank='J', suit='clubs')"
     },
     "execution_count": 17,
     "metadata": {},
     "output_type": "execute_result"
    }
   ],
   "source": [
    "choice(deck)"
   ],
   "metadata": {
    "collapsed": false,
    "ExecuteTime": {
     "end_time": "2024-06-07T21:23:23.438910Z",
     "start_time": "2024-06-07T21:23:23.435537Z"
    }
   },
   "id": "5b04828c48c21cf5",
   "execution_count": 17
  },
  {
   "cell_type": "code",
   "outputs": [
    {
     "data": {
      "text/plain": "Card(rank='7', suit='diamonds')"
     },
     "execution_count": 18,
     "metadata": {},
     "output_type": "execute_result"
    }
   ],
   "source": [
    "choice(deck)"
   ],
   "metadata": {
    "collapsed": false,
    "ExecuteTime": {
     "end_time": "2024-06-07T21:23:27.997218Z",
     "start_time": "2024-06-07T21:23:27.993106Z"
    }
   },
   "id": "590bc526a7a0a5d0",
   "execution_count": 18
  },
  {
   "cell_type": "code",
   "outputs": [
    {
     "data": {
      "text/plain": "[Card(rank='J', suit='hearts'),\n Card(rank='Q', suit='hearts'),\n Card(rank='K', suit='hearts'),\n Card(rank='A', suit='hearts')]"
     },
     "execution_count": 42,
     "metadata": {},
     "output_type": "execute_result"
    }
   ],
   "source": [
    "deck[-4:]"
   ],
   "metadata": {
    "collapsed": false,
    "ExecuteTime": {
     "end_time": "2024-06-07T21:26:50.019236Z",
     "start_time": "2024-06-07T21:26:50.016506Z"
    }
   },
   "id": "57cc4bf8f15658f1",
   "execution_count": 42
  },
  {
   "cell_type": "code",
   "outputs": [
    {
     "name": "stdout",
     "output_type": "stream",
     "text": [
      "Card(rank='2', suit='spades')\n",
      "Card(rank='3', suit='spades')\n",
      "Card(rank='4', suit='spades')\n",
      "Card(rank='5', suit='spades')\n",
      "Card(rank='6', suit='spades')\n",
      "Card(rank='7', suit='spades')\n",
      "Card(rank='8', suit='spades')\n",
      "Card(rank='9', suit='spades')\n",
      "Card(rank='10', suit='spades')\n",
      "Card(rank='J', suit='spades')\n",
      "Card(rank='Q', suit='spades')\n",
      "Card(rank='K', suit='spades')\n",
      "Card(rank='A', suit='spades')\n",
      "Card(rank='2', suit='diamonds')\n",
      "Card(rank='3', suit='diamonds')\n",
      "Card(rank='4', suit='diamonds')\n",
      "Card(rank='5', suit='diamonds')\n",
      "Card(rank='6', suit='diamonds')\n",
      "Card(rank='7', suit='diamonds')\n",
      "Card(rank='8', suit='diamonds')\n",
      "Card(rank='9', suit='diamonds')\n",
      "Card(rank='10', suit='diamonds')\n",
      "Card(rank='J', suit='diamonds')\n",
      "Card(rank='Q', suit='diamonds')\n",
      "Card(rank='K', suit='diamonds')\n",
      "Card(rank='A', suit='diamonds')\n",
      "Card(rank='2', suit='clubs')\n",
      "Card(rank='3', suit='clubs')\n",
      "Card(rank='4', suit='clubs')\n",
      "Card(rank='5', suit='clubs')\n",
      "Card(rank='6', suit='clubs')\n",
      "Card(rank='7', suit='clubs')\n",
      "Card(rank='8', suit='clubs')\n",
      "Card(rank='9', suit='clubs')\n",
      "Card(rank='10', suit='clubs')\n",
      "Card(rank='J', suit='clubs')\n",
      "Card(rank='Q', suit='clubs')\n",
      "Card(rank='K', suit='clubs')\n",
      "Card(rank='A', suit='clubs')\n",
      "Card(rank='2', suit='hearts')\n",
      "Card(rank='3', suit='hearts')\n",
      "Card(rank='4', suit='hearts')\n",
      "Card(rank='5', suit='hearts')\n",
      "Card(rank='6', suit='hearts')\n",
      "Card(rank='7', suit='hearts')\n",
      "Card(rank='8', suit='hearts')\n",
      "Card(rank='9', suit='hearts')\n",
      "Card(rank='10', suit='hearts')\n",
      "Card(rank='J', suit='hearts')\n",
      "Card(rank='Q', suit='hearts')\n",
      "Card(rank='K', suit='hearts')\n",
      "Card(rank='A', suit='hearts')\n"
     ]
    }
   ],
   "source": [
    "for card in deck: # doctest: +ELLIPSIS\n",
    "    print(card)"
   ],
   "metadata": {
    "collapsed": false,
    "ExecuteTime": {
     "end_time": "2024-06-07T21:30:38.413422Z",
     "start_time": "2024-06-07T21:30:38.410763Z"
    }
   },
   "id": "65fbedc267a621cb",
   "execution_count": 46
  },
  {
   "cell_type": "markdown",
   "source": [
    "### Sorting"
   ],
   "metadata": {
    "collapsed": false
   },
   "id": "7c1187014ebf2bf4"
  },
  {
   "cell_type": "code",
   "outputs": [],
   "source": [
    "suit_values = dict(spades=3, hearts=2, diamonds=1, clubs=0)"
   ],
   "metadata": {
    "collapsed": false,
    "ExecuteTime": {
     "end_time": "2024-06-07T21:33:11.578679Z",
     "start_time": "2024-06-07T21:33:11.576638Z"
    }
   },
   "id": "9a21658aaf7e3231",
   "execution_count": 47
  },
  {
   "cell_type": "code",
   "outputs": [
    {
     "data": {
      "text/plain": "{'spades': 3, 'hearts': 2, 'diamonds': 1, 'clubs': 0}"
     },
     "execution_count": 48,
     "metadata": {},
     "output_type": "execute_result"
    }
   ],
   "source": [
    "suit_values"
   ],
   "metadata": {
    "collapsed": false,
    "ExecuteTime": {
     "end_time": "2024-06-07T21:33:15.203826Z",
     "start_time": "2024-06-07T21:33:15.191462Z"
    }
   },
   "id": "a23af0ab18401573",
   "execution_count": 48
  },
  {
   "cell_type": "code",
   "outputs": [],
   "source": [
    "def spades_high(card: card) -> int:\n",
    "    rank_value = FrenchDeck.ranks.index(card.rank)\n",
    "    print(rank_value)\n",
    "    return rank_value * len(suit_values) + suit_values[card.suit]"
   ],
   "metadata": {
    "collapsed": false,
    "ExecuteTime": {
     "end_time": "2024-06-07T21:34:58.856093Z",
     "start_time": "2024-06-07T21:34:58.853902Z"
    }
   },
   "id": "3bbe87f456f8524e",
   "execution_count": 49
  },
  {
   "cell_type": "code",
   "outputs": [
    {
     "data": {
      "text/plain": "7"
     },
     "execution_count": 53,
     "metadata": {},
     "output_type": "execute_result"
    }
   ],
   "source": [
    "spades_high(deck[1])"
   ],
   "metadata": {
    "collapsed": false,
    "ExecuteTime": {
     "end_time": "2024-06-07T21:36:34.705797Z",
     "start_time": "2024-06-07T21:36:34.701725Z"
    }
   },
   "id": "762419bac90408cb",
   "execution_count": 53
  },
  {
   "cell_type": "code",
   "outputs": [
    {
     "data": {
      "text/plain": "Card(rank='3', suit='spades')"
     },
     "execution_count": 54,
     "metadata": {},
     "output_type": "execute_result"
    }
   ],
   "source": [
    "deck[1]"
   ],
   "metadata": {
    "collapsed": false,
    "ExecuteTime": {
     "end_time": "2024-06-07T21:36:39.010784Z",
     "start_time": "2024-06-07T21:36:39.008045Z"
    }
   },
   "id": "fba0dc5d6bdbacd1",
   "execution_count": 54
  },
  {
   "cell_type": "code",
   "outputs": [
    {
     "data": {
      "text/plain": "[Card(rank='2', suit='clubs'),\n Card(rank='2', suit='diamonds'),\n Card(rank='2', suit='hearts'),\n Card(rank='2', suit='spades'),\n Card(rank='3', suit='clubs'),\n Card(rank='3', suit='diamonds'),\n Card(rank='3', suit='hearts'),\n Card(rank='3', suit='spades')]"
     },
     "execution_count": 60,
     "metadata": {},
     "output_type": "execute_result"
    }
   ],
   "source": [
    "sorted(deck,key=spades_high)[:8]"
   ],
   "metadata": {
    "collapsed": false,
    "ExecuteTime": {
     "end_time": "2024-06-07T21:38:03.170248Z",
     "start_time": "2024-06-07T21:38:03.167539Z"
    }
   },
   "id": "8acee0fe29e9ca80",
   "execution_count": 60
  },
  {
   "cell_type": "markdown",
   "source": [
    "We already have ranks sorted (as we created them via for loop)\n",
    "1. get the index of the rank multiply it with 4 (as we have 4 suits) \n",
    "2.  add the position of the suit. \n",
    "    i.e. club cards goes to 1st position, diamonds goes to 2nd ..."
   ],
   "metadata": {
    "collapsed": false
   },
   "id": "466f8494b56bccbd"
  },
  {
   "cell_type": "code",
   "outputs": [
    {
     "data": {
      "text/plain": "7"
     },
     "execution_count": 72,
     "metadata": {},
     "output_type": "execute_result"
    }
   ],
   "source": [
    "FrenchDeck.ranks.index(deck[1].rank) * 4 + suit_values[deck[1].suit]"
   ],
   "metadata": {
    "collapsed": false,
    "ExecuteTime": {
     "end_time": "2024-06-07T21:45:58.256340Z",
     "start_time": "2024-06-07T21:45:58.253564Z"
    }
   },
   "id": "6c6c37f49274e77f",
   "execution_count": 72
  },
  {
   "cell_type": "code",
   "outputs": [
    {
     "data": {
      "text/plain": "True"
     },
     "execution_count": 76,
     "metadata": {},
     "output_type": "execute_result"
    }
   ],
   "source": [
    "sorted(deck,key=spades_high)[7] == deck[1]"
   ],
   "metadata": {
    "collapsed": false,
    "ExecuteTime": {
     "end_time": "2024-06-07T21:46:19.153722Z",
     "start_time": "2024-06-07T21:46:19.151149Z"
    }
   },
   "id": "bcbd51e27ae1e948",
   "execution_count": 76
  },
  {
   "cell_type": "code",
   "outputs": [
    {
     "data": {
      "text/plain": "(Card(rank='3', suit='spades'), Card(rank='3', suit='spades'))"
     },
     "execution_count": 78,
     "metadata": {},
     "output_type": "execute_result"
    }
   ],
   "source": [
    "deck[1] , sorted(deck,key=spades_high)[7]"
   ],
   "metadata": {
    "collapsed": false,
    "ExecuteTime": {
     "end_time": "2024-06-07T21:46:31.482330Z",
     "start_time": "2024-06-07T21:46:31.479134Z"
    }
   },
   "id": "de7fd1f6d863f63b",
   "execution_count": 78
  },
  {
   "cell_type": "code",
   "outputs": [],
   "source": [],
   "metadata": {
    "collapsed": false
   },
   "id": "204df26c0a5f8575"
  }
 ],
 "metadata": {
  "kernelspec": {
   "display_name": "Python 3",
   "language": "python",
   "name": "python3"
  },
  "language_info": {
   "codemirror_mode": {
    "name": "ipython",
    "version": 2
   },
   "file_extension": ".py",
   "mimetype": "text/x-python",
   "name": "python",
   "nbconvert_exporter": "python",
   "pygments_lexer": "ipython2",
   "version": "2.7.6"
  }
 },
 "nbformat": 4,
 "nbformat_minor": 5
}
